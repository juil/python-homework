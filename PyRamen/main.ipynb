{
 "cells": [
  {
   "cell_type": "markdown",
   "id": "537cf745-e05b-4659-88d5-22c1d435ccb6",
   "metadata": {
    "tags": []
   },
   "source": [
    "# PyRamen\n",
    "#### Unit 2 Assignment by Juil Yoon\n",
    "PURPOSE: Read sales data files and generate report."
   ]
  },
  {
   "cell_type": "code",
   "execution_count": 51,
   "id": "53717ffa-8bf4-431e-8595-d48dc5bfce65",
   "metadata": {},
   "outputs": [],
   "source": [
    "# -*- coding: UTF-8 -*-\n",
    "\"\"\"PyRamen Homework Starter.\"\"\"\n",
    "\n",
    "# @TODO: Import libraries\n",
    "import csv\n",
    "from pathlib import Path\n",
    "\n",
    "# @TODO: Set file paths for menu_data.csv and sales_data.csv\n",
    "menu_filename = 'menu_data.csv'\n",
    "sales_filename = 'sales_data.csv'\n",
    "menu_filepath = Path('Resources') / menu_filename\n",
    "sales_filepath = Path('Resources') / sales_filename\n",
    "\n",
    "# @TODO: Initialize list objects to hold our menu and sales data\n",
    "menu = []\n",
    "sales = []\n",
    "\n",
    "# @TODO: Read in the menu data into the menu list\n",
    "\n",
    "with open(menu_filepath,'r') as menufile:\n",
    "    menu_data = csv.reader(menufile,delimiter=',')\n",
    "    menufields = next(menu_data)\n",
    "    for item in menu_data:\n",
    "        menu.append(item)        \n",
    "\n",
    "# @TODO: Read in the sales data into the sales list\n",
    "\n",
    "with open(sales_filepath,'r') as salesfile:\n",
    "    sales_data = csv.reader(salesfile,delimiter=',')\n",
    "    salesfields = next(sales_data)\n",
    "    for item in sales_data:\n",
    "        sales.append(item)\n",
    "    \n",
    "# @TODO: Initialize dict object to hold our key-value pairs of items and metrics\n",
    "\"\"\"Ex. {'Item_Name':{\n",
    "      \"01-count\": 0,\n",
    "      \"02-revenue\": 0,\n",
    "      \"03-cogs\": 0,\n",
    "      \"04-profit\": 0\n",
    "      }}\"\"\"\n",
    "report = {}"
   ]
  },
  {
   "cell_type": "code",
   "execution_count": 79,
   "id": "0e6ddd24-5374-4eac-b60c-65b3f4dec280",
   "metadata": {},
   "outputs": [
    {
     "name": "stdout",
     "output_type": "stream",
     "text": [
      "Total records in sales_data.csv: 74,124\n",
      "Actual sales: 74,124\n",
      "Output report to report.txt\n",
      "\n"
     ]
    }
   ],
   "source": [
    "# Initialize a row counter variable for sales_data\n",
    "row_count = 0\n",
    "actual_sales = 0\n",
    "\n",
    "# @TODO: Loop over every row in the sales list object\n",
    "for salesitem in sales:\n",
    "    \n",
    "    # Line_Item_ID,Date,Credit_Card_Number,Quantity,Menu_Item\n",
    "    # @TODO: Initialize sales data variables\n",
    "    Line_Item_ID,Date,Credit_Card_Number,Quantity,Menu_Item = salesitem\n",
    "    Quantity = int(Quantity)\n",
    "    \n",
    "    # @TODO:\n",
    "    # If the item value not in the report, add it as a new entry with initialized metrics\n",
    "    # Naming convention allows the keys to be ordered in logical fashion, count, revenue, cost, profit\n",
    "    if not not report.get(Menu_Item, True):\n",
    "        report[Menu_Item] = {\"01-count\": 0,\"02-revenue\": 0,\"03-cogs\": 0,\"04-profit\": 0}\n",
    "\n",
    "    # @TODO: For every row in our sales data, loop over the menu records to determine a match\n",
    "    for menuitem in menu:\n",
    "        # Item,Category,Description,Price,Cost\n",
    "        # @TODO: Initialize menu data variables\n",
    "        Item,Category,Description,Price,Cost = menuitem\n",
    "        # Convert numbers to floats\n",
    "        Price = float(Price)\n",
    "        Cost = float(Cost)\n",
    "\n",
    "        # @TODO: If the item value in our sales data is equal to the any of the items in the menu, then begin tracking metrics for that item\n",
    "        if Menu_Item == Item:\n",
    "            actual_sales += 1\n",
    "            \n",
    "            # @TODO: Calculate profit of each item in the menu data\n",
    "            profit = Quantity * (Price - Cost)\n",
    "\n",
    "            # @TODO: Print out matching menu data\n",
    "            # print(f\"{Item} ({Category}):      ${Price:,.2f}\")\n",
    "\n",
    "            # @TODO: Cumulatively add up the metrics for each item key\n",
    "            report[Item]['01-count'] += Quantity\n",
    "            report[Item]['02-revenue'] += Price * Quantity\n",
    "            report[Item]['03-cogs'] += Cost * Quantity\n",
    "            report[Item]['04-profit'] += profit * Quantity\n",
    "\n",
    "        # @TODO: Else, the sales item does not equal any fo the item in the menu data, therefore no match\n",
    "        # else:\n",
    "            # print(f\"{Menu_Item} =/= {Item}\")\n",
    "\n",
    "\n",
    "    # @TODO: Increment the row counter by 1\n",
    "    row_count += 1\n",
    "\n",
    "# @TODO: Print total number of records in sales data\n",
    "print(f\"Total records in {sales_filename}: {row_count:,}\")\n",
    "print(f\"Actual sales: {actual_sales:,}\")\n",
    "\n",
    "# @TODO: Write out report to a text file (won't appear on the command line output)\n",
    "outputfile = 'report.txt'\n",
    "with open(outputfile,'w') as output:\n",
    "    for line in report:\n",
    "        output.write(f\"{line} {report[line]}\\n\")\n",
    "    \n",
    "print(f\"Output report to {outputfile}\\n\")"
   ]
  }
 ],
 "metadata": {
  "kernelspec": {
   "display_name": "Python 3 (ipykernel)",
   "language": "python",
   "name": "python3"
  },
  "language_info": {
   "codemirror_mode": {
    "name": "ipython",
    "version": 3
   },
   "file_extension": ".py",
   "mimetype": "text/x-python",
   "name": "python",
   "nbconvert_exporter": "python",
   "pygments_lexer": "ipython3",
   "version": "3.9.13"
  }
 },
 "nbformat": 4,
 "nbformat_minor": 5
}
