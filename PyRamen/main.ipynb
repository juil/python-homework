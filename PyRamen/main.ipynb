{
 "cells": [
  {
   "cell_type": "code",
   "execution_count": 1,
   "id": "577b02b5-468b-46db-95d8-62a7db596f60",
   "metadata": {},
   "outputs": [],
   "source": [
    "# PyRamen\n",
    "## Unit 2 Assignment by Juil Yoon\n",
    "# PURPOSE: Read sales data files and generate report."
   ]
  },
  {
   "cell_type": "code",
   "execution_count": null,
   "id": "b316ac0d-df7d-4aa8-b9a3-a92cdaf2c23c",
   "metadata": {},
   "outputs": [],
   "source": [
    "##"
   ]
  }
 ],
 "metadata": {
  "kernelspec": {
   "display_name": "Python 3 (ipykernel)",
   "language": "python",
   "name": "python3"
  },
  "language_info": {
   "codemirror_mode": {
    "name": "ipython",
    "version": 3
   },
   "file_extension": ".py",
   "mimetype": "text/x-python",
   "name": "python",
   "nbconvert_exporter": "python",
   "pygments_lexer": "ipython3",
   "version": "3.9.13"
  }
 },
 "nbformat": 4,
 "nbformat_minor": 5
}
