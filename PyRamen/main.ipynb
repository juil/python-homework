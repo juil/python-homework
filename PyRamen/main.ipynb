{
 "cells": [
  {
   "cell_type": "markdown",
   "id": "537cf745-e05b-4659-88d5-22c1d435ccb6",
   "metadata": {
    "tags": []
   },
   "source": [
    "# PyRamen\n",
    "#### Unit 2 Assignment by Juil Yoon\n",
    "PURPOSE: Read sales data files and generate report."
   ]
  },
  {
   "cell_type": "code",
   "execution_count": 3,
   "id": "b316ac0d-df7d-4aa8-b9a3-a92cdaf2c23c",
   "metadata": {},
   "outputs": [],
   "source": [
    "## Read the Data"
   ]
  },
  {
   "cell_type": "code",
   "execution_count": null,
   "id": "ab3346f7-ca3a-4d46-b4c7-109019d95a3f",
   "metadata": {},
   "outputs": [],
   "source": []
  }
 ],
 "metadata": {
  "kernelspec": {
   "display_name": "Python 3 (ipykernel)",
   "language": "python",
   "name": "python3"
  },
  "language_info": {
   "codemirror_mode": {
    "name": "ipython",
    "version": 3
   },
   "file_extension": ".py",
   "mimetype": "text/x-python",
   "name": "python",
   "nbconvert_exporter": "python",
   "pygments_lexer": "ipython3",
   "version": "3.9.13"
  }
 },
 "nbformat": 4,
 "nbformat_minor": 5
}
