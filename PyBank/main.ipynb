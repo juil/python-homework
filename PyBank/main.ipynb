{
 "cells": [
  {
   "cell_type": "code",
   "execution_count": 2,
   "id": "d730d6bf-0dbb-4a7c-b22d-ea63094439a3",
   "metadata": {},
   "outputs": [],
   "source": [
    "# PyBank\n",
    "# Unit 2 Assignment by Juil Yoon\n",
    "# PURPOSE: Analyzes financial records of company."
   ]
  },
  {
   "cell_type": "code",
   "execution_count": 28,
   "id": "999f9250-64c6-4808-b07a-3b354c4b2611",
   "metadata": {
    "tags": []
   },
   "outputs": [],
   "source": [
    "# Import Path and csv libraries\n",
    "from pathlib import Path\n",
    "import csv\n",
    "\n",
    "# Set Data file\n",
    "budgetdata = 'resources/budget_data.csv'"
   ]
  },
  {
   "cell_type": "code",
   "execution_count": 54,
   "id": "5bda42d1-bf05-4b35-b9cf-12f4d2d5587f",
   "metadata": {
    "tags": []
   },
   "outputs": [],
   "source": [
    "# Function to print Financial Analysis\n",
    "def printAnalysis(months, pnl, avgpnl, biggestprofit, biggestloss):\n",
    "    print(\"Financial Analysis\")\n",
    "    print(f\"{'-'*30}\")\n",
    "    print(f\"Total Months: {months}\")\n",
    "    print(f\"Total: ${pnl:,.2f}\")\n",
    "    print(f\"Average Change: ${avgpnl:,.2f}\")\n",
    "    print(f\"Greatest Increase in Profits: {biggestprofit['date']} (${biggestprofit['amount']:,.2f})\")\n",
    "    print(f\"Greatest Decrease in Profits: {biggestloss['date']} (${biggestloss['amount']:,.2f})\")\n",
    "    return\n",
    "\n",
    "\n",
    "# Function to write Financial Analysis to file\n",
    "def exportAnalysis(exportfilepath, months, pnl, avgpnl, biggestprofit, biggestloss):\n",
    "    with open(exportfilepath,'w') as exportfile:\n",
    "        exportfile.write(\"Financial Analysis\\n\")\n",
    "        exportfile.write(f\"{'-'*30}\\n\")\n",
    "        exportfile.write(f\"Total Months: {months}\\n\")\n",
    "        exportfile.write(f\"Total: ${float(pnl):,.2f}\\n\")\n",
    "        exportfile.write(f\"Average Change: ${float(avgpnl):,.2f}\\n\")\n",
    "        exportfile.write(f\"Greatest Increase in Profits: {biggestprofit['date']} (${float(biggestprofit['amount']):,.2f})\\n\")\n",
    "        exportfile.write(f\"Greatest Decrease in Profits: {biggestloss['date']} (${float(biggestloss['amount']):,.2f})\\n\")\n",
    "    return str(exportfilepath)\n",
    "\n",
    "# Test\n",
    "# exportAnalysis('analysis.txt', 1, 100, 5, {'date':'2022-12-01', 'amount':20}, {'date':'2022-12-02', 'amount':-30})"
   ]
  },
  {
   "cell_type": "code",
   "execution_count": 55,
   "id": "badc6478-7baa-495e-b28e-51ee6bb9ef50",
   "metadata": {},
   "outputs": [
    {
     "name": "stdout",
     "output_type": "stream",
     "text": [
      "Date,Profit/Losses\n",
      "\n",
      "Financial Analysis\n",
      "------------------------------\n",
      "Total Months: 86\n",
      "Total: $38,382,578.00\n",
      "Average Change: $446,309.05\n",
      "Greatest Increase in Profits: Feb-2012 ($1,170,593.00)\n",
      "Greatest Decrease in Profits: Sep-2013 ($-1,196,225.00)\n"
     ]
    }
   ],
   "source": [
    "# Function Run analysis\n",
    "# - Calculate total number of months\n",
    "# - Calculate net total Profit/Loss\n",
    "# - Calculate the greatest increase in profits\n",
    "# - Calculate the greatest increase in losses\n",
    "# Return: Dict of ['months', 'pnl', 'avgpnl', 'greatestprofit', 'greatestloss']\n",
    "\n",
    "def runAnalysis(datafile):\n",
    "    # Initialize Variables\n",
    "    months = 0\n",
    "    pnl = 0\n",
    "    avgpnl = 0\n",
    "    todayspnl = 0\n",
    "    biggestprofit = {'date':'000', 'amount':0}\n",
    "    biggestloss = {'date':'000', 'amount':0}\n",
    "    \n",
    "\n",
    "    # Open budget data\n",
    "    with open(datafile,'r') as data:\n",
    "        # Get fields\n",
    "        header = next(data)\n",
    "        print(header)\n",
    "        \n",
    "        # Iterate through data\n",
    "        for line in data:\n",
    "            # Calculate total months\n",
    "            months += 1\n",
    "            # Read line as array\n",
    "            line = line.split(',')\n",
    "            todayspnl = float(line[1])\n",
    "            date = line[0]\n",
    "            # Add P&L\n",
    "            pnl += todayspnl\n",
    "            # Check Greatest Profit & Greatest Loss\n",
    "            if todayspnl > biggestprofit['amount']:\n",
    "                biggestprofit['date'] = date\n",
    "                biggestprofit['amount'] = todayspnl\n",
    "            if todayspnl < biggestloss['amount']:\n",
    "                biggestloss['date'] = date\n",
    "                biggestloss['amount'] = todayspnl\n",
    "        \n",
    "        # Calculate average pnl\n",
    "        avgpnl = pnl/months\n",
    "    \n",
    "    # Export and print analysis\n",
    "    printAnalysis(months, pnl, avgpnl, biggestprofit, biggestloss)\n",
    "    exportAnalysis('analysis.txt', months, pnl, avgpnl, biggestprofit, biggestloss)\n",
    "        \n",
    "\n",
    "runAnalysis(budgetdata)"
   ]
  },
  {
   "cell_type": "code",
   "execution_count": null,
   "id": "77e6a986-7062-4bee-bc2d-65db10996a60",
   "metadata": {},
   "outputs": [],
   "source": []
  }
 ],
 "metadata": {
  "kernelspec": {
   "display_name": "Python 3 (ipykernel)",
   "language": "python",
   "name": "python3"
  },
  "language_info": {
   "codemirror_mode": {
    "name": "ipython",
    "version": 3
   },
   "file_extension": ".py",
   "mimetype": "text/x-python",
   "name": "python",
   "nbconvert_exporter": "python",
   "pygments_lexer": "ipython3",
   "version": "3.9.13"
  }
 },
 "nbformat": 4,
 "nbformat_minor": 5
}
