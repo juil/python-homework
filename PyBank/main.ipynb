{
 "cells": [
  {
   "cell_type": "code",
   "execution_count": 2,
   "id": "d730d6bf-0dbb-4a7c-b22d-ea63094439a3",
   "metadata": {},
   "outputs": [],
   "source": [
    "# PyBank\n",
    "# Unit 2 Assignment by Juil Yoon\n",
    "# PURPOSE: Analyzes financial records of company."
   ]
  },
  {
   "cell_type": "code",
   "execution_count": 28,
   "id": "999f9250-64c6-4808-b07a-3b354c4b2611",
   "metadata": {
    "tags": []
   },
   "outputs": [],
   "source": [
    "# Import Path and csv libraries\n",
    "from pathlib import Path\n",
    "import csv\n",
    "\n",
    "# Set Data file\n",
    "budgetdata = 'resources/budget_data.csv'"
   ]
  },
  {
   "cell_type": "code",
   "execution_count": 29,
   "id": "5bda42d1-bf05-4b35-b9cf-12f4d2d5587f",
   "metadata": {
    "tags": []
   },
   "outputs": [],
   "source": [
    "# Function to print Financial Analysis\n",
    "def printAnalysis(months, pnl, avgpnl, biggestprofit, biggestloss):\n",
    "    print(\"Financial Analysis\")\n",
    "    print(f\"{'-'*30}\")\n",
    "    print(f\"Total Months: {months}\")\n",
    "    print(f\"Total: ${pnl:.2f}\")\n",
    "    print(f\"Average Change: ${avgpnl:.2f}\")\n",
    "    print(f\"Greatest Increase in Profits: {biggestprofit['date']} (${biggestprofit['amount']:.2f})\")\n",
    "    print(f\"Greatest Decrease in Profits: {biggestloss['date']} (${biggestloss['amount']:.2f})\")\n",
    "    return\n",
    "\n",
    "\n",
    "# Function to write Financial Analysis to file\n",
    "def exportAnalysis(exportfilepath, months, pnl, avgpnl, biggestprofit, biggestloss):\n",
    "    with open(exportfilepath,'w') as exportfile:\n",
    "        exportfile.write(\"Financial Analysis\\n\")\n",
    "        exportfile.write(f\"{'-'*30}\\n\")\n",
    "        exportfile.write(f\"Total Months: {months}\\n\")\n",
    "        exportfile.write(f\"Total: ${float(pnl):.2f}\\n\")\n",
    "        exportfile.write(f\"Average Change: ${float(avgpnl):.2f}\\n\")\n",
    "        exportfile.write(f\"Greatest Increase in Profits: {biggestprofit['date']} (${float(biggestprofit['amount']):.2f})\\n\")\n",
    "        exportfile.write(f\"Greatest Decrease in Profits: {biggestloss['date']} (${float(biggestloss['amount']):.2f})\\n\")\n",
    "    return str(exportfilepath)\n",
    "\n",
    "# Test\n",
    "# exportAnalysis('analysis.txt', 1, 100, 5, {'date':'2022-12-01', 'amount':20}, {'date':'2022-12-02', 'amount':-30})"
   ]
  },
  {
   "cell_type": "code",
   "execution_count": 31,
   "id": "badc6478-7baa-495e-b28e-51ee6bb9ef50",
   "metadata": {},
   "outputs": [],
   "source": [
    "# Function Run analysis\n",
    "# - Calculate total number of months\n",
    "# - Calculate net total Profit/Loss\n",
    "# - Calculate the greatest increase in profits\n",
    "# - Calculate the greatest increase in losses\n",
    "# Return: Dict of ['months', 'pnl', 'avgpnl', 'greatestprofit', 'greatestloss']\n",
    "\n",
    "def runAnalysis(datafile):\n",
    "    # Initialize Variables\n",
    "    months = 0\n",
    "    pnl = 0\n",
    "    avgpnl = 0\n",
    "    biggestprofit = {'date':'000', 'amount':0}\n",
    "    biggestprofit = {'date':'000', 'amount':0}\n",
    "    \n",
    "\n",
    "        "
   ]
  }
 ],
 "metadata": {
  "kernelspec": {
   "display_name": "Python 3 (ipykernel)",
   "language": "python",
   "name": "python3"
  },
  "language_info": {
   "codemirror_mode": {
    "name": "ipython",
    "version": 3
   },
   "file_extension": ".py",
   "mimetype": "text/x-python",
   "name": "python",
   "nbconvert_exporter": "python",
   "pygments_lexer": "ipython3",
   "version": "3.9.13"
  }
 },
 "nbformat": 4,
 "nbformat_minor": 5
}
