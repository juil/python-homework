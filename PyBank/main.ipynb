{
 "cells": [
  {
   "cell_type": "code",
   "execution_count": 2,
   "id": "d730d6bf-0dbb-4a7c-b22d-ea63094439a3",
   "metadata": {},
   "outputs": [],
   "source": [
    "# PyBank\n",
    "# Unit 2 Assignment by Juil Yoon\n",
    "# PURPOSE: Analyzes financial records of company."
   ]
  },
  {
   "cell_type": "code",
   "execution_count": 73,
   "id": "999f9250-64c6-4808-b07a-3b354c4b2611",
   "metadata": {
    "tags": []
   },
   "outputs": [],
   "source": [
    "# Import Path and csv libraries\n",
    "from pathlib import Path\n",
    "import csv\n",
    "\n",
    "# Set Data file\n",
    "budget_data = 'resources/budget_data.csv'"
   ]
  },
  {
   "cell_type": "code",
   "execution_count": 74,
   "id": "5bda42d1-bf05-4b35-b9cf-12f4d2d5587f",
   "metadata": {
    "tags": []
   },
   "outputs": [],
   "source": [
    "# Function to print Financial Analysis\n",
    "def print_analysis(months, pnl, avg_pnl, biggest_profit, biggest_loss):\n",
    "    print(\"Financial Analysis\")\n",
    "    print(f\"{'-'*30}\")\n",
    "    print(f\"Total Months: {months}\")\n",
    "    print(f\"Total: ${pnl:,.2f}\")\n",
    "    print(f\"Average Change: ${avg_pnl:,.2f}\")\n",
    "    print(f\"Greatest Increase in Profits: {biggest_profit['date']} (${biggest_profit['amount']:,.2f})\")\n",
    "    print(f\"Greatest Decrease in Profits: {biggest_loss['date']} (${biggest_loss['amount']:,.2f})\")\n",
    "    return\n",
    "\n",
    "\n",
    "# Function to write Financial Analysis to file\n",
    "def export_analysis(export_path, months, pnl, avg_pnl, biggest_profit, biggest_loss):\n",
    "    with open(export_path,'w') as export:\n",
    "        export.write(\"Financial Analysis\\n\")\n",
    "        export.write(f\"{'-'*30}\\n\")\n",
    "        export.write(f\"Total Months: {months}\\n\")\n",
    "        export.write(f\"Total: ${float(pnl):,.2f}\\n\")\n",
    "        export.write(f\"Average Change: ${float(avg_pnl):,.2f}\\n\")\n",
    "        export.write(f\"Greatest Increase in Profits: {biggest_profit['date']} (${float(biggest_profit['amount']):,.2f})\\n\")\n",
    "        export.write(f\"Greatest Decrease in Profits: {biggest_loss['date']} (${float(biggest_loss['amount']):,.2f})\\n\")\n",
    "    return str(export_path)\n",
    "\n",
    "# Test\n",
    "# export_analysis('analysis.txt', 1, 100, 5, {'date':'2022-12-01', 'amount':20}, {'date':'2022-12-02', 'amount':-30})"
   ]
  },
  {
   "cell_type": "code",
   "execution_count": 76,
   "id": "badc6478-7baa-495e-b28e-51ee6bb9ef50",
   "metadata": {},
   "outputs": [
    {
     "name": "stdout",
     "output_type": "stream",
     "text": [
      "Financial Analysis\n",
      "------------------------------\n",
      "Total Months: 86\n",
      "Total: $38,382,578.00\n",
      "Average Change: $-2,315.12\n",
      "Greatest Increase in Profits: Feb-2012 ($1,926,159.00)\n",
      "Greatest Decrease in Profits: Sep-2013 ($-2,196,167.00)\n"
     ]
    }
   ],
   "source": [
    "# Function Run analysis\n",
    "# - Calculate total number of months\n",
    "# - Calculate net total Profit/Loss\n",
    "# - Calculate the greatest increase in profits\n",
    "# - Calculate the greatest increase in losses\n",
    "# Return: Dict of ['months', 'pnl', 'avg_pnl', 'greatestprofit', 'greatestloss']\n",
    "    \n",
    "def run_analysis(data_file):\n",
    "    # Initialize Variables\n",
    "    months = 1 #Start at 1 because pnl_list starts with first line\n",
    "    pnl = 0\n",
    "    avg_pnl = 0\n",
    "    todays_pnl = 0\n",
    "    biggest_profit = {'date':'000', 'amount':0}\n",
    "    biggest_loss = {'date':'000', 'amount':0}\n",
    "    \n",
    "\n",
    "    # Open budget data\n",
    "    with open(data_file,'r') as data:\n",
    "        # Get fields\n",
    "        fields = next(data)\n",
    "        \n",
    "        # Init lists for PNL change\n",
    "        first_pnl = next(data).split(',')\n",
    "        pnl = float(first_pnl[1])\n",
    "        pnl_list = [float(first_pnl[1])] #add first pnl\n",
    "        pnl_changes = []\n",
    "        \n",
    "        # Iterate through data\n",
    "        for line in data:\n",
    "            # Calculate total months\n",
    "            months += 1\n",
    "            # Read line as array\n",
    "            line = line.split(',')\n",
    "            todays_pnl = float(line[1])\n",
    "            date = line[0]\n",
    "            \n",
    "            # Add P&L total\n",
    "            pnl += todays_pnl\n",
    "            # Add P&L change list\n",
    "            pnl_changes.append(todays_pnl-pnl_list[-1])\n",
    "            pnl_list.append(todays_pnl)\n",
    "            \n",
    "            # Check Greatest Profit & Greatest Loss change\n",
    "            if pnl_changes[-1] > biggest_profit['amount']:\n",
    "                biggest_profit['date'] = date\n",
    "                biggest_profit['amount'] = pnl_changes[-1]\n",
    "            if pnl_changes[-1] < biggest_loss['amount']:\n",
    "                biggest_loss['date'] = date\n",
    "                biggest_loss['amount'] = pnl_changes[-1]\n",
    "        \n",
    "        # Calculate average pnl change\n",
    "        avg_pnl = sum(pnl_changes)/(months-1) #NOTE: PNL change is the (total months - 1)\n",
    "    \n",
    "    # Export and print analysis\n",
    "    print_analysis(months, pnl, avg_pnl, biggest_profit, biggest_loss)\n",
    "    export_analysis('analysis.txt', months, pnl, avg_pnl, biggest_profit, biggest_loss)\n",
    "        \n",
    "# Run Analysis with budget_data.csv file\n",
    "run_analysis(budget_data)"
   ]
  }
 ],
 "metadata": {
  "kernelspec": {
   "display_name": "Python 3 (ipykernel)",
   "language": "python",
   "name": "python3"
  },
  "language_info": {
   "codemirror_mode": {
    "name": "ipython",
    "version": 3
   },
   "file_extension": ".py",
   "mimetype": "text/x-python",
   "name": "python",
   "nbconvert_exporter": "python",
   "pygments_lexer": "ipython3",
   "version": "3.9.13"
  }
 },
 "nbformat": 4,
 "nbformat_minor": 5
}
