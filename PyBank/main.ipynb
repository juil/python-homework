{
 "cells": [
  {
   "cell_type": "code",
   "execution_count": 2,
   "id": "d730d6bf-0dbb-4a7c-b22d-ea63094439a3",
   "metadata": {},
   "outputs": [],
   "source": [
    "# PyBank\n",
    "# Unit 2 Assignment by Juil Yoon\n",
    "# PURPOSE: Analyzes financial records of company."
   ]
  },
  {
   "cell_type": "code",
   "execution_count": 22,
   "id": "4c804262-a233-4e5f-a817-cb757f88d946",
   "metadata": {
    "tags": []
   },
   "outputs": [],
   "source": [
    "# Import Path and csv libraries\n",
    "from pathlib import Path\n",
    "import csv\n",
    "\n",
    "# Initialize Variables\n",
    "# Set Data file\n",
    "file = 'resources/budget_data.csv'\n",
    "\n",
    "# Function to print Financial Analysis\n",
    "def printanalysis(months, pnl, averagepnl, biggestprofit, biggestloss):\n",
    "    print(\"Financial Analysis\")\n",
    "    print(f\"{'-'*30}\")\n",
    "    print(f\"Total Months: {months}\")\n",
    "    print(f\"Total: ${pnl:.2f}\")\n",
    "    print(f\"Average Change: ${averagepnl:.2f}\")\n",
    "    print(f\"Greatest Increase in Profits: {biggestprofit['date']} (${biggestprofit['amount']:.2f})\")\n",
    "    print(f\"Greatest Decrease in Profits: {biggestloss['date']} (${biggestloss['amount']:.2f})\")\n",
    "    return\n",
    "\n",
    "\n",
    "# Function to write Financial Analysis to file\n",
    "def exportAnalysis(exportfilepath, months, pnl, averagepnl, biggestprofit, biggestloss):\n",
    "    with open(exportfilepath,'w') as exportfile:\n",
    "        exportfile.write(\"Financial Analysis\\n\")\n",
    "        exportfile.write(f\"{'-'*30}\\n\")\n",
    "        exportfile.write(f\"Total Months: {months}\\n\")\n",
    "        exportfile.write(f\"Total: ${float(pnl):.2f}\\n\")\n",
    "        exportfile.write(f\"Average Change: ${float(averagepnl):.2f}\\n\")\n",
    "        exportfile.write(f\"Greatest Increase in Profits: {biggestprofit['date']} (${float(biggestprofit['amount']):.2f})\\n\")\n",
    "        exportfile.write(f\"Greatest Decrease in Profits: {biggestloss['date']} (${float(biggestloss['amount']):.2f})\\n\")\n",
    "    return str(exportfilepath)\n",
    "\n",
    "# Test\n",
    "# exportAnalysis('analysis.txt', 1, 100, 5, {'date':'2022-12-01', 'amount':20}, {'date':'2022-12-02', 'amount':-30})\n"
   ]
  },
  {
   "cell_type": "code",
   "execution_count": null,
   "id": "badc6478-7baa-495e-b28e-51ee6bb9ef50",
   "metadata": {},
   "outputs": [],
   "source": []
  }
 ],
 "metadata": {
  "kernelspec": {
   "display_name": "Python 3 (ipykernel)",
   "language": "python",
   "name": "python3"
  },
  "language_info": {
   "codemirror_mode": {
    "name": "ipython",
    "version": 3
   },
   "file_extension": ".py",
   "mimetype": "text/x-python",
   "name": "python",
   "nbconvert_exporter": "python",
   "pygments_lexer": "ipython3",
   "version": "3.9.13"
  }
 },
 "nbformat": 4,
 "nbformat_minor": 5
}
